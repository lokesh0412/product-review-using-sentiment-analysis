{
 "cells": [
  {
   "cell_type": "code",
   "execution_count": 1,
   "metadata": {},
   "outputs": [],
   "source": [
    "import numpy as np \n",
    "import pandas as pd\n",
    "import collections\n",
    "from nltk.classify import NaiveBayesClassifier\n",
    "from nltk.classify.util import accuracy\n",
    "import pickle\n",
    "import requests,json"
   ]
  },
  {
   "cell_type": "code",
   "execution_count": 2,
   "metadata": {},
   "outputs": [],
   "source": [
    "data=pd.read_csv(\"data.csv\",delimiter=None)\n",
    "\n",
    "def bag_of_words(words):\n",
    "    return dict([(word,True) for word in words])\n",
    "\n",
    "def label_feats_extractor(data,feature_detector=bag_of_words):\n",
    "    label_feats = collections.defaultdict(list)\n",
    "    for i in range(1000):\n",
    "        feats=feature_detector(data['Review'][i].split())\n",
    "        label=data['Category'][i]\n",
    "        label_feats[label].append(feats)\n",
    "    return label_feats\n",
    "\n",
    "def split_label_feats(lfeats, split=0.75):\n",
    "    train_feats = []\n",
    "    test_feats = []\n",
    "    for label,feats in lfeats.items():\n",
    "        cutoff = int(len(feats)*split)\n",
    "        train_feats.extend([(feat,label) for feat in feats[:cutoff]])\n",
    "        test_feats.extend([(feat,label) for feat in feats[cutoff:]])\n",
    "    return train_feats,test_feats\n",
    "\n",
    "lfeats=label_feats_extractor(data)\n",
    "train_feats, test_feats = split_label_feats(lfeats, split=0.75)\n",
    "\n",
    "\n",
    "nb_classifier = NaiveBayesClassifier.train(train_feats)\n",
    "\n",
    "pickle.dump(nb_classifier,open(\"nb_class.pkl\",\"wb\"))\n",
    "\n"
   ]
  },
  {
   "cell_type": "code",
   "execution_count": null,
   "metadata": {},
   "outputs": [],
   "source": []
  }
 ],
 "metadata": {
  "kernelspec": {
   "display_name": "Python 3",
   "language": "python",
   "name": "python3"
  },
  "language_info": {
   "codemirror_mode": {
    "name": "ipython",
    "version": 3
   },
   "file_extension": ".py",
   "mimetype": "text/x-python",
   "name": "python",
   "nbconvert_exporter": "python",
   "pygments_lexer": "ipython3",
   "version": "3.6.4"
  }
 },
 "nbformat": 4,
 "nbformat_minor": 2
}
